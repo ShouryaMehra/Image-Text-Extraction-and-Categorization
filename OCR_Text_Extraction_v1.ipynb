{
  "nbformat": 4,
  "nbformat_minor": 0,
  "metadata": {
    "colab": {
      "name": "ocr.ipynb",
      "provenance": [],
      "collapsed_sections": []
    },
    "kernelspec": {
      "name": "python3",
      "display_name": "Python 3"
    },
    "accelerator": "GPU"
  },
  "cells": [
    {
      "cell_type": "markdown",
      "metadata": {
        "id": "AZNdIWYNE7l7"
      },
      "source": [
        "# **IMAGES DATA RECOGNITION AND CATEGORIZATION BASED ON OCR**\n",
        "\n",
        "---\n",
        "\n",
        "\n",
        "\n",
        "---\n",
        "\n",
        "\n",
        "\n",
        "\n"
      ]
    },
    {
      "cell_type": "markdown",
      "metadata": {
        "id": "ImRQMYszuHIK"
      },
      "source": [
        "# **Load Libraries**\n",
        "---\n"
      ]
    },
    {
      "cell_type": "code",
      "metadata": {
        "id": "PLGmH7rSJ7-M",
        "colab": {
          "base_uri": "https://localhost:8080/"
        },
        "outputId": "e0633744-6c04-409e-8baa-a04f0d2975fa"
      },
      "source": [
        "!pip install easyocr \n",
        "!python -m spacy download en_core_web_lg \n",
        "import easyocr \n",
        "import cv2 \n",
        "import re\n",
        "import spacy\n",
        "\n",
        "# Load Spacy large model\n",
        "nlp = spacy.load('en_core_web_lg') \n",
        "reader = easyocr.Reader(['en']) "
      ],
      "execution_count": null,
      "outputs": [
        {
          "output_type": "stream",
          "text": [
            "Downloading detection model, please wait. This may take several minutes depending upon your network connection.\n"
          ],
          "name": "stderr"
        },
        {
          "output_type": "stream",
          "text": [
            ""
          ],
          "name": "stdout"
        },
        {
          "output_type": "stream",
          "text": [
            "Downloading recognition model, please wait. This may take several minutes depending upon your network connection.\n"
          ],
          "name": "stderr"
        },
        {
          "output_type": "stream",
          "text": [
            ""
          ],
          "name": "stdout"
        }
      ]
    },
    {
      "cell_type": "markdown",
      "metadata": {
        "id": "A3AHb4McTPhx"
      },
      "source": [
        "# **Define Functions**\n",
        "\n",
        "---\n",
        "\n"
      ]
    },
    {
      "cell_type": "code",
      "metadata": {
        "id": "qvBgyexuP9KQ"
      },
      "source": [
        "# select image format\n",
        "def foramt(val):\n",
        "  try:\n",
        "    img = cv2.imread(val+\".jpeg\")\n",
        "    cv2.cvtColor(img, cv2.COLOR_BGR2GRAY) \n",
        "  except:\n",
        "    try:\n",
        "      img = cv2.imread(val+\".jpg\")\n",
        "      cv2.cvtColor(img, cv2.COLOR_BGR2GRAY) \n",
        "    except:\n",
        "      img = cv2.imread(val+\".png\")\n",
        "      cv2.cvtColor(img, cv2.COLOR_BGR2GRAY)\n",
        "  return img    \n",
        "\n",
        "# Flatten list\n",
        "def flatten_list(_2d_list):\n",
        "    flat_list = []\n",
        "    # Iterate through the outer list\n",
        "    for element in _2d_list:\n",
        "        if type(element) is list:\n",
        "            # If the element is of type list, iterate through the sublist\n",
        "            for item in element:\n",
        "                flat_list.append(item)\n",
        "        else:\n",
        "            flat_list.append(element)\n",
        "    return flat_list  "
      ],
      "execution_count": null,
      "outputs": []
    },
    {
      "cell_type": "markdown",
      "metadata": {
        "id": "Zfxm3568Y5uY"
      },
      "source": [
        "# **API**\n",
        "\n",
        "---\n",
        "\n",
        "\n"
      ]
    },
    {
      "cell_type": "code",
      "metadata": {
        "id": "eDwQMYFmvQ62",
        "colab": {
          "base_uri": "https://localhost:8080/"
        },
        "outputId": "259015f3-1282-4080-9821-fddc29600b01"
      },
      "source": [
        "# Enter image name\n",
        "val = input(\"Enter Image name... : \")\n",
        "\n",
        "# process image \n",
        "img = foramt(val)\n",
        "img = cv2.cvtColor(img, cv2.COLOR_BGR2GRAY)  \n",
        "img = cv2.bilateralFilter(img,55, 75, 75) \n",
        "result = reader.readtext(img, detail = 0,paragraph=True,filter_ths=0.3, text_threshold=0.8,adjust_contrast=1.0)\n",
        "\n",
        "# filter text\n",
        "txt = re.sub(r\"\"\"[^a-zA-Z0-9+\"*]\"\"\", ' ', str(result).upper())\n",
        "price = []\n",
        "price2 = []\n",
        "company = []\n",
        "company2 = []\n",
        "\n",
        "# Classification of Price and Company name\n",
        "doc = nlp(str(txt)) \n",
        "for ent in doc.ents:           \n",
        "  if ent.label_ in ['CARDINAL','PERCENT','DATE','QUANTITY','MONEY'] and len(ent.text) > 1:\n",
        "    price.append(ent.text)\n",
        "  if ent.label_ in ['ORG','PRODUCT','PERSON','MONEY']:\n",
        "    company.append(ent.text)\n",
        "\n",
        "\n",
        "# Again classification of Company name for better results\n",
        "doc = nlp(str(list(set(company))))\n",
        "for ent in doc.ents:  \n",
        "  if ent.label_ in ['ORG','PRODUCT','PERSON']:\n",
        "    company2.append(ent.text)              \n",
        "if len(company2) == 0:\n",
        "  company2 = company\n",
        "\n",
        "# Again classification of product price for better results\n",
        "doc = nlp(str(price))\n",
        "for ent in doc.ents: \n",
        "  if ent.label_ in ['CARDINAL','PRODUCT']:\n",
        "    price2.append(ent.text)\n",
        "if len(price2) == 0:\n",
        "  price2 = price\n",
        "\n",
        "# detail classification\n",
        "Details=[]\n",
        "# Repeate from starting with different filters\n",
        "img = foramt(val)\n",
        "img = cv2.GaussianBlur(img, (3, 3), 0)\n",
        "img = cv2.bilateralFilter(img,55, 75, 75) \n",
        "result = reader.readtext(img, detail = 0,paragraph=True)\n",
        "\n",
        "# You can select any of one case  \n",
        "\n",
        "# Case >> 1\n",
        "txt = re.sub(r\"\"\"[^a-zA-Z0-9+*]\"\"\", ' ', str(result))\n",
        "doc = nlp(str(txt))\n",
        "for ent in doc.ents: \n",
        "  if ent.label_ in [\"WORK_OF_ART\",'ORG','PERSON','LAW','PRODUCT','EVENT']:\n",
        "    Details.append(ent.text) \n",
        "  # print(ent.text,ent.label_) \n",
        "if len(Details) == 0:\n",
        "  Details.append(result)  \n",
        "\n",
        "# Case >> 2\n",
        "# Details.append(result)\n",
        "\n",
        "# Transform list to 1D\n",
        "info = flatten_list(Details)  \n",
        "dict = {\"Company Name\":list(set(company2)),\"Prices\":list(set(price2)),\"Product Details\":list(info)} \n",
        "print(\"Company:\",list(set(company2)),\"||\",\"Price\",list(set(price2)),\"||\",\"Product Details\",list(info),end=\" \") \n"
      ],
      "execution_count": null,
      "outputs": [
        {
          "output_type": "stream",
          "text": [
            "Enter Image name... : 23\n",
            "Company: ['ONEPLUS'] || Price ['256', '42 999'] || Product Details ['OnePlus 8T 5G', \"8 + 128 GB '42,999\", \"12 + 256 GB '45,999\", 'Buy Now'] "
          ],
          "name": "stdout"
        }
      ]
    },
    {
      "cell_type": "code",
      "metadata": {
        "id": "4fTKD74eiTnY"
      },
      "source": [
        ""
      ],
      "execution_count": null,
      "outputs": []
    }
  ]
}